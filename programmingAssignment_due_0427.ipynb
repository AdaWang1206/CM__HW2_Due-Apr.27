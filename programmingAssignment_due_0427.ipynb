{
 "cells": [
  {
   "cell_type": "markdown",
   "id": "60883461",
   "metadata": {},
   "source": [
    "# Eigenvalues and eigenvectors\n",
    "### Using power iteration and deflation techniqwes to find *largest and 2nd largest eigenvalues* of the given matrix.\n",
    "### Should hand in one source code and one pdf. file"
   ]
  },
  {
   "cell_type": "code",
   "execution_count": 149,
   "id": "12eb7d7f",
   "metadata": {},
   "outputs": [],
   "source": [
    "import numpy as np"
   ]
  },
  {
   "cell_type": "code",
   "execution_count": 150,
   "id": "8562b11b",
   "metadata": {},
   "outputs": [
    {
     "name": "stdout",
     "output_type": "stream",
     "text": [
      "A=\n",
      "[[ 190   66  -84   30]\n",
      " [  66  303   42  -36]\n",
      " [ 336 -168  147 -112]\n",
      " [  30  -36   28  291]]\n",
      "[147.+196.j 147.-196.j 294.  +0.j 343.  +0.j]\n"
     ]
    }
   ],
   "source": [
    "A=np.array([\n",
    "    [190,66,-84,30],\n",
    "    [66,303,42,-36],\n",
    "    [336,-168,147,-112],\n",
    "    [30,-36,28,291]\n",
    "])\n",
    "print('A=')\n",
    "print(A)\n",
    "\n",
    "w,v=np.linalg.eig(A)\n",
    "print(w)"
   ]
  },
  {
   "cell_type": "code",
   "execution_count": 151,
   "id": "745b1bef",
   "metadata": {},
   "outputs": [],
   "source": [
    "def powermethod(A, epsl):\n",
    "    ### input: A matrix, epsl(1.0e-15)\n",
    "    ### initial set\n",
    "    itmax=100\n",
    "    x=np.random.random((4,1))  ## initial set of x_0 (4*1)\n",
    "    k=0\n",
    "    lamb0=1.0  ## initial guess about lambda\n",
    "    rel_diff=1.0  ## initial difference of lambda(by cal. and true) \n",
    "    \n",
    "    ### loop\n",
    "    while((k<itmax) and (rel_diff>epsl)):\n",
    "        v=A.dot(x)\n",
    "        lamb1=np.linalg.norm(v)\n",
    "        x=v/lamb1\n",
    "        rel_diff=abs((lamb1-lamb0)/lamb0)\n",
    "        \n",
    "        k=k+1\n",
    "        lamb0=lamb1\n",
    "        #print('k=', k, 'lambda_1=', lamb1, 'error=', rel_diff)\n",
    "        #print('v1=', x)\n",
    "        #print('=======')\n",
    "    \n",
    "    return A, lamb1, x, rel_diff\n",
    "    \n",
    "def deflation(A, lamb1,x):\n",
    "    ### B=A-lamb1*v1*x^T\n",
    "    ### x^T*v1=1\n",
    "    v=x\n",
    "    x_1=1/v.item(0)\n",
    "    B_x=np.array([x_1,0,0,0],dtype=object)\n",
    "    #print(v)\n",
    "    #print(B_x)\n",
    "    \n",
    "    ### Set B\n",
    "    vxT=np.zeros(shape=(4,4))\n",
    "    for i in range(4):\n",
    "        for j in range(4):\n",
    "            vxT[i][j]=v[i]*B_x[j]\n",
    "    #print(vxT)\n",
    "    B=A-lamb1*vxT\n",
    "    #print(B)    ### DONE!\n",
    "    \n",
    "    ### apply power method to B\n",
    "    B,lamb2,v2,err2=powermethod(B,1.0e-5)\n",
    "    \n",
    "    return B, lamb2, v2, err2\n",
    "\n",
    "### Main function\n",
    "def find2Eigval(A,epsl):\n",
    "    A, lamb1, x, err1=powermethod(A,epsl)\n",
    "    B, lamb2, v2,err2=deflation(A,lamb1,x)\n",
    "    print('First eigenvalue is:',lamb1, '; Error is:', err1)\n",
    "    print('Second eigenvalue is:',lamb2, '; Error is:', err2)"
   ]
  },
  {
   "cell_type": "code",
   "execution_count": 152,
   "id": "eedbde53",
   "metadata": {},
   "outputs": [
    {
     "name": "stdout",
     "output_type": "stream",
     "text": [
      "First eigenvalue is: 342.99252407133827 ; Error is: 7.869261889590079e-06\n",
      "Second eigenvalue is: 294.9112866691407 ; Error is: 3.5105843783451157e-06\n"
     ]
    }
   ],
   "source": [
    "find2Eigval(A,1.0e-5)"
   ]
  },
  {
   "cell_type": "code",
   "execution_count": null,
   "id": "ee055c64",
   "metadata": {},
   "outputs": [],
   "source": []
  }
 ],
 "metadata": {
  "kernelspec": {
   "display_name": "Python 3",
   "language": "python",
   "name": "python3"
  },
  "language_info": {
   "codemirror_mode": {
    "name": "ipython",
    "version": 3
   },
   "file_extension": ".py",
   "mimetype": "text/x-python",
   "name": "python",
   "nbconvert_exporter": "python",
   "pygments_lexer": "ipython3",
   "version": "3.8.8"
  }
 },
 "nbformat": 4,
 "nbformat_minor": 5
}
